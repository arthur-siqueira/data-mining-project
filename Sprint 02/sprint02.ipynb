{
  "nbformat": 4,
  "nbformat_minor": 0,
  "metadata": {
    "colab": {
      "provenance": []
    },
    "kernelspec": {
      "name": "python3",
      "display_name": "Python 3"
    },
    "language_info": {
      "name": "python"
    }
  },
  "cells": [
    {
      "cell_type": "code",
      "execution_count": 1,
      "metadata": {
        "id": "cK7mlP9wqPY0"
      },
      "outputs": [],
      "source": [
        "# Mineração de Dados - Projeto 02\n",
        "\n",
        "# Importar bibliotecas\n",
        "import pandas as pd\n",
        "import numpy as np\n"
      ]
    },
    {
      "cell_type": "code",
      "source": [
        "# Carregar os arquivos CSV\n",
        "fact_stocks = pd.read_csv(\"factStocks.csv\")\n",
        "dim_company = pd.read_csv(\"dimCompany.csv\")\n",
        "dim_time = pd.read_csv(\"dimTime.csv\")"
      ],
      "metadata": {
        "id": "Vxulljouurq4"
      },
      "execution_count": 2,
      "outputs": []
    },
    {
      "cell_type": "code",
      "source": [
        "print(\"📄 factStocks.csv:\")\n",
        "print(fact_stocks.head(), '\\n')\n",
        "\n",
        "print(\"🏢 dimCompany.csv:\")\n",
        "print(dim_company.head(), '\\n')\n",
        "\n",
        "print(\"🕒 dimTime.csv:\")\n",
        "print(dim_time.head(), '\\n')"
      ],
      "metadata": {
        "colab": {
          "base_uri": "https://localhost:8080/"
        },
        "id": "rLPh5D-tuwN-",
        "outputId": "dd8bf36b-03c6-4765-ed50-33a8f4a6c2ca"
      },
      "execution_count": 4,
      "outputs": [
        {
          "output_type": "stream",
          "name": "stdout",
          "text": [
            "📄 factStocks.csv:\n",
            "   keyTime  keyCompany  openValueStock  closeValueStock  highValueStock  \\\n",
            "0     1355          18           45.80             45.8            45.8   \n",
            "1     1355         107           12.15             12.6            12.6   \n",
            "2     1355         108           17.00             17.5            17.5   \n",
            "3     1355         604          299.00            299.0           299.0   \n",
            "4     1355         110           53.10             52.0            53.8   \n",
            "\n",
            "   lowValueStock  quantityStock  \n",
            "0          45.80          916.0  \n",
            "1          12.15       668420.0  \n",
            "2          16.95      3789172.0  \n",
            "3         299.00        59800.0  \n",
            "4          52.00      8331641.0   \n",
            "\n",
            "🏢 dimCompany.csv:\n",
            "   keyCompany stockCodeCompany   nameCompany sectorCodeCompany  \\\n",
            "0           1            BRAP4     BRADESPAR              IMAT   \n",
            "1           2            PMAM3  PARANAPANEMA              IMAT   \n",
            "2           3            CSNA3  SID NACIONAL              IMAT   \n",
            "3           4            SUZB3   SUZANO S.A.              IMAT   \n",
            "4           5            BRKM5       BRASKEM              IMAT   \n",
            "\n",
            "                              sectorCompany        segmentCompany  \n",
            "0  BM&FBOVESPA BASIC MATERIALS INDEX (IMAT)  SEGMENTS AND SECTORS  \n",
            "1  BM&FBOVESPA BASIC MATERIALS INDEX (IMAT)  SEGMENTS AND SECTORS  \n",
            "2  BM&FBOVESPA BASIC MATERIALS INDEX (IMAT)  SEGMENTS AND SECTORS  \n",
            "3  BM&FBOVESPA BASIC MATERIALS INDEX (IMAT)  SEGMENTS AND SECTORS  \n",
            "4  BM&FBOVESPA BASIC MATERIALS INDEX (IMAT)  SEGMENTS AND SECTORS   \n",
            "\n",
            "🕒 dimTime.csv:\n",
            "   keyTime    datetime  dayTime  dayWeekTime dayWeekAbbrevTime  \\\n",
            "0        1  1994-07-01        1            6               SAB   \n",
            "1        2  1994-07-02        2            7               DOM   \n",
            "2        3  1994-07-03        3            1               SEG   \n",
            "3        4  1994-07-04        4            2               TER   \n",
            "4        5  1994-07-05        5            3               QUA   \n",
            "\n",
            "  dayWeekCompleteTime  monthTime monthAbbrevTime monthCompleteTime  \\\n",
            "0              SABADO          7             JUL             JULHO   \n",
            "1             DOMINGO          7             JUL             JULHO   \n",
            "2             SEGUNDA          7             JUL             JULHO   \n",
            "3               TERCA          7             JUL             JULHO   \n",
            "4              QUARTA          7             JUL             JULHO   \n",
            "\n",
            "   bimonthTime  quarterTime  semesterTime  yearTime  \n",
            "0            4            3             2      1994  \n",
            "1            4            3             2      1994  \n",
            "2            4            3             2      1994  \n",
            "3            4            3             2      1994  \n",
            "4            4            3             2      1994   \n",
            "\n"
          ]
        }
      ]
    },
    {
      "cell_type": "code",
      "source": [
        "# Mostrar tamanho de cada dataset\n",
        "print(\"🔍 Tamanho dos arquivos:\")\n",
        "print(f\"factStocks: {fact_stocks.shape[0]} linhas × {fact_stocks.shape[1]} colunas\")\n",
        "print(f\"dimCompany: {dim_company.shape[0]} linhas × {dim_company.shape[1]} colunas\")\n",
        "print(f\"dimTime: {dim_time.shape[0]} linhas × {dim_time.shape[1]} colunas\\n\")"
      ],
      "metadata": {
        "colab": {
          "base_uri": "https://localhost:8080/"
        },
        "id": "aiHvvZ_7u-lG",
        "outputId": "d24b0c79-117c-4f08-b00e-8da678e03155"
      },
      "execution_count": 5,
      "outputs": [
        {
          "output_type": "stream",
          "name": "stdout",
          "text": [
            "🔍 Tamanho dos arquivos:\n",
            "factStocks: 680150 linhas × 7 colunas\n",
            "dimCompany: 607 linhas × 6 colunas\n",
            "dimTime: 9680 linhas × 13 colunas\n",
            "\n"
          ]
        }
      ]
    },
    {
      "cell_type": "code",
      "source": [
        "# Listar todas as variáveis (nomes das colunas)\n",
        "print(\"Variáveis em factStocks:\", fact_stocks.columns.tolist())\n",
        "print(\"Variáveis em dimCompany:\", dim_company.columns.tolist())\n",
        "print(\"Variáveis em dimTime:\", dim_time.columns.tolist(), '\\n')"
      ],
      "metadata": {
        "colab": {
          "base_uri": "https://localhost:8080/"
        },
        "id": "HvLOJ5iZx4X5",
        "outputId": "c4d5f74e-abee-41fe-911a-6b4f634ca8e9"
      },
      "execution_count": 7,
      "outputs": [
        {
          "output_type": "stream",
          "name": "stdout",
          "text": [
            "Variáveis em factStocks: ['keyTime', 'keyCompany', 'openValueStock', 'closeValueStock', 'highValueStock', 'lowValueStock', 'quantityStock']\n",
            "Variáveis em dimCompany: ['keyCompany', 'stockCodeCompany', 'nameCompany', 'sectorCodeCompany', 'sectorCompany', 'segmentCompany']\n",
            "Variáveis em dimTime: ['keyTime', 'datetime', 'dayTime', 'dayWeekTime', 'dayWeekAbbrevTime', 'dayWeekCompleteTime', 'monthTime', 'monthAbbrevTime', 'monthCompleteTime', 'bimonthTime', 'quarterTime', 'semesterTime', 'yearTime'] \n",
            "\n"
          ]
        }
      ]
    },
    {
      "cell_type": "code",
      "source": [
        "# Classificar variáveis quantitativas e qualitativas\n",
        "def classificar_variaveis(df):\n",
        "    quantitativas = df.select_dtypes(include=[np.number]).columns.tolist()\n",
        "    qualitativas = df.select_dtypes(exclude=[np.number]).columns.tolist()\n",
        "    return quantitativas, qualitativas\n",
        "\n",
        "q_fact, qual_fact = classificar_variaveis(fact_stocks)\n",
        "q_comp, qual_comp = classificar_variaveis(dim_company)\n",
        "q_time, qual_time = classificar_variaveis(dim_time)"
      ],
      "metadata": {
        "id": "qf4MGcT4yBHG"
      },
      "execution_count": 8,
      "outputs": []
    },
    {
      "cell_type": "code",
      "source": [
        "# Construir a tabela de resumo de variáveis por tipo\n",
        "\n",
        "resumo = []\n",
        "\n",
        "# Adiciona as variáveis de factStocks\n",
        "for var in q_fact:\n",
        "    resumo.append([\"factStocks\", var, \"Quantitativa\"])\n",
        "for var in qual_fact:\n",
        "    resumo.append([\"factStocks\", var, \"Qualitativa\"])\n",
        "\n",
        "# Adiciona as variáveis de dimCompany\n",
        "for var in q_comp:\n",
        "    resumo.append([\"dimCompany\", var, \"Quantitativa\"])\n",
        "for var in qual_comp:\n",
        "    resumo.append([\"dimCompany\", var, \"Qualitativa\"])\n",
        "\n",
        "# Adiciona as variáveis de dimTime\n",
        "for var in q_time:\n",
        "    resumo.append([\"dimTime\", var, \"Quantitativa\"])\n",
        "for var in qual_time:\n",
        "    resumo.append([\"dimTime\", var, \"Qualitativa\"])\n",
        "\n",
        "# Cria o DataFrame\n",
        "resumo_variaveis = pd.DataFrame(resumo, columns=[\"Dataset\", \"Variável\", \"Tipo\"])\n",
        "\n",
        "# Exibe a tabela\n",
        "print(\"📊 Tabela resumo de variáveis por tipo:\")\n",
        "print(resumo_variaveis)"
      ],
      "metadata": {
        "colab": {
          "base_uri": "https://localhost:8080/"
        },
        "id": "4NIFN5XH85OB",
        "outputId": "ad03067a-0d0c-429e-afc6-bc07331680e6"
      },
      "execution_count": 10,
      "outputs": [
        {
          "output_type": "stream",
          "name": "stdout",
          "text": [
            "📊 Tabela resumo de variáveis por tipo:\n",
            "       Dataset             Variável          Tipo\n",
            "0   factStocks              keyTime  Quantitativa\n",
            "1   factStocks           keyCompany  Quantitativa\n",
            "2   factStocks       openValueStock  Quantitativa\n",
            "3   factStocks      closeValueStock  Quantitativa\n",
            "4   factStocks       highValueStock  Quantitativa\n",
            "5   factStocks        lowValueStock  Quantitativa\n",
            "6   factStocks        quantityStock  Quantitativa\n",
            "7   dimCompany           keyCompany  Quantitativa\n",
            "8   dimCompany     stockCodeCompany   Qualitativa\n",
            "9   dimCompany          nameCompany   Qualitativa\n",
            "10  dimCompany    sectorCodeCompany   Qualitativa\n",
            "11  dimCompany        sectorCompany   Qualitativa\n",
            "12  dimCompany       segmentCompany   Qualitativa\n",
            "13     dimTime              keyTime  Quantitativa\n",
            "14     dimTime              dayTime  Quantitativa\n",
            "15     dimTime          dayWeekTime  Quantitativa\n",
            "16     dimTime            monthTime  Quantitativa\n",
            "17     dimTime          bimonthTime  Quantitativa\n",
            "18     dimTime          quarterTime  Quantitativa\n",
            "19     dimTime         semesterTime  Quantitativa\n",
            "20     dimTime             yearTime  Quantitativa\n",
            "21     dimTime             datetime   Qualitativa\n",
            "22     dimTime    dayWeekAbbrevTime   Qualitativa\n",
            "23     dimTime  dayWeekCompleteTime   Qualitativa\n",
            "24     dimTime      monthAbbrevTime   Qualitativa\n",
            "25     dimTime    monthCompleteTime   Qualitativa\n"
          ]
        }
      ]
    }
  ]
}